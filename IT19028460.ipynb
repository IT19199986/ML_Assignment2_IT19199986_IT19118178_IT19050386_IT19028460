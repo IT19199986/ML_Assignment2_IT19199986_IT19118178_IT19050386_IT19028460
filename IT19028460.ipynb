{
 "cells": [
  {
   "cell_type": "code",
   "execution_count": null,
   "id": "0157dd64",
   "metadata": {},
   "outputs": [],
   "source": [
    "#pre-processing\n",
    "null=pd.DataFrame(data.isnull().sum(),columns=[\"Null Values count\"]) # gets a dataset with all of the columns and the number of Null values in it\n",
    "null[\"Null values percentage\"]=(data.isna().sum()/len(data)*100) # adds a column with the % of the Null out of all of the column\n",
    "null = null[null[\"Null values percentage\"] > 0] # keep only the ones that has Null values\n",
    "null.style.background_gradient() # prints it in a pretty way"
   ]
  },
  {
   "cell_type": "code",
   "execution_count": null,
   "id": "c182cadb",
   "metadata": {},
   "outputs": [],
   "source": [
    "plt.figure(figsize=(10,10))\n",
    "sns.heatmap(data.corr(),linewidth=.01,annot=True,cmap=\"summer\")\n",
    "plt.show()\n",
    "plt.savefig('correlationfigure')"
   ]
  },
  {
   "cell_type": "code",
   "execution_count": null,
   "id": "7de24770",
   "metadata": {},
   "outputs": [],
   "source": [
    "#Explorataty data anlysis\n",
    "sns.countplot(x='output', data=data)"
   ]
  }
 ],
 "metadata": {
  "kernelspec": {
   "display_name": "Python 3 (ipykernel)",
   "language": "python",
   "name": "python3"
  },
  "language_info": {
   "codemirror_mode": {
    "name": "ipython",
    "version": 3
   },
   "file_extension": ".py",
   "mimetype": "text/x-python",
   "name": "python",
   "nbconvert_exporter": "python",
   "pygments_lexer": "ipython3",
   "version": "3.9.12"
  }
 },
 "nbformat": 4,
 "nbformat_minor": 5
}
